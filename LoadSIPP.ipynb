{
 "cells": [
  {
   "cell_type": "code",
   "execution_count": null,
   "metadata": {},
   "outputs": [],
   "source": [
    "import pandas as pd\n",
    "DataPath = \"C:\\\\Users\\\\w.dickens\\\\Dropbox\\\\Adaptations to Unemployment\"\n",
    "DataPath += \"\\\\SIPP Output\\\\datasets\\\\data files\\\\\"\n",
    "DataPath += \"SIPP_2008_Monthly_MaleHSOnly.csv\"\n",
    "\n",
    "SIPPData = pd.read_csv(DataPath)\n",
    "SIPPData"
   ]
  },
  {
   "cell_type": "code",
   "execution_count": null,
   "metadata": {},
   "outputs": [],
   "source": []
  }
 ],
 "metadata": {
  "kernelspec": {
   "display_name": "Python 3",
   "language": "python",
   "name": "python3"
  },
  "language_info": {
   "codemirror_mode": {
    "name": "ipython",
    "version": 3
   },
   "file_extension": ".py",
   "mimetype": "text/x-python",
   "name": "python",
   "nbconvert_exporter": "python",
   "pygments_lexer": "ipython3",
   "version": "3.6.5"
  }
 },
 "nbformat": 4,
 "nbformat_minor": 2
}
